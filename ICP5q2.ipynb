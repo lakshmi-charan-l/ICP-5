{
  "nbformat": 4,
  "nbformat_minor": 0,
  "metadata": {
    "colab": {
      "provenance": []
    },
    "kernelspec": {
      "name": "python3",
      "display_name": "Python 3"
    },
    "language_info": {
      "name": "python"
    }
  },
  "cells": [
    {
      "cell_type": "code",
      "source": [
        "import pandas as pd\n",
        "import numpy as np\n",
        "from sklearn.model_selection import train_test_split\n",
        "from sklearn.svm import SVC\n",
        "from sklearn.metrics import classification_report\n",
        "\n",
        "#load the glass dataset\n",
        "glass =pd.read_csv (\"glass.csv\")\n",
        "\n",
        "#split the dataset into features and target\n",
        "X = glass.iloc[:, :-1]\n",
        "y = glass.iloc[:, -1]\n",
        "\n",
        "\n",
        "#split the dataset into training and testing parts\n",
        "X_train, X_test, y_train, y_test = train_test_split(X, y, test_size=0.2, random_state=42)\n",
        "\n",
        "\n",
        "svm_classifier = SVC(kernel='linear', C=1.0)\n",
        "svm_classifier.fit(X_train, y_train)\n",
        "\n",
        "y_pred = svm_classifier.predict(X_test)\n",
        "\n",
        "accuracy = svm_classifier.score(X_test, y_test)\n",
        "classification_rep =  classification_report(y_test, y_pred, target_names=[f\"Class {i}\" for i in range(1,7)])\n",
        "\n",
        "print(\"Accuracy:\", accuracy)\n",
        "print(\"\\nClassification Report:\\n\", classification_rep)"
      ],
      "metadata": {
        "id": "0SUhnRqFtGRy",
        "colab": {
          "base_uri": "https://localhost:8080/"
        },
        "outputId": "e1f74a94-c601-443b-d3a4-3bc176885ca4"
      },
      "execution_count": 1,
      "outputs": [
        {
          "output_type": "stream",
          "name": "stdout",
          "text": [
            "Accuracy: 0.7441860465116279\n",
            "\n",
            "Classification Report:\n",
            "               precision    recall  f1-score   support\n",
            "\n",
            "     Class 1       0.69      0.82      0.75        11\n",
            "     Class 2       0.67      0.71      0.69        14\n",
            "     Class 3       0.00      0.00      0.00         3\n",
            "     Class 4       0.80      1.00      0.89         4\n",
            "     Class 5       1.00      0.67      0.80         3\n",
            "     Class 6       0.88      0.88      0.88         8\n",
            "\n",
            "    accuracy                           0.74        43\n",
            "   macro avg       0.67      0.68      0.67        43\n",
            "weighted avg       0.70      0.74      0.72        43\n",
            "\n"
          ]
        },
        {
          "output_type": "stream",
          "name": "stderr",
          "text": [
            "/usr/local/lib/python3.10/dist-packages/sklearn/metrics/_classification.py:1344: UndefinedMetricWarning: Precision and F-score are ill-defined and being set to 0.0 in labels with no predicted samples. Use `zero_division` parameter to control this behavior.\n",
            "  _warn_prf(average, modifier, msg_start, len(result))\n",
            "/usr/local/lib/python3.10/dist-packages/sklearn/metrics/_classification.py:1344: UndefinedMetricWarning: Precision and F-score are ill-defined and being set to 0.0 in labels with no predicted samples. Use `zero_division` parameter to control this behavior.\n",
            "  _warn_prf(average, modifier, msg_start, len(result))\n",
            "/usr/local/lib/python3.10/dist-packages/sklearn/metrics/_classification.py:1344: UndefinedMetricWarning: Precision and F-score are ill-defined and being set to 0.0 in labels with no predicted samples. Use `zero_division` parameter to control this behavior.\n",
            "  _warn_prf(average, modifier, msg_start, len(result))\n"
          ]
        }
      ]
    }
  ]
}