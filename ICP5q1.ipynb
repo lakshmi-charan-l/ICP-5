{
  "nbformat": 4,
  "nbformat_minor": 0,
  "metadata": {
    "colab": {
      "provenance": []
    },
    "kernelspec": {
      "name": "python3",
      "display_name": "Python 3"
    },
    "language_info": {
      "name": "python"
    }
  },
  "cells": [
    {
      "cell_type": "code",
      "execution_count": 1,
      "metadata": {
        "colab": {
          "base_uri": "https://localhost:8080/"
        },
        "id": "pPVjUrBV70Uv",
        "outputId": "4e313a9f-f825-4a31-f671-16736afdb950"
      },
      "outputs": [
        {
          "output_type": "stream",
          "name": "stdout",
          "text": [
            "Accuracy: 0.5581395348837209\n",
            "\n",
            "Classification Report:\n",
            "               precision    recall  f1-score   support\n",
            "\n",
            "     Class 1       0.41      0.64      0.50        11\n",
            "     Class 2       0.43      0.21      0.29        14\n",
            "     Class 3       0.40      0.67      0.50         3\n",
            "     Class 4       0.50      0.25      0.33         4\n",
            "     Class 5       1.00      1.00      1.00         3\n",
            "     Class 6       0.89      1.00      0.94         8\n",
            "\n",
            "    accuracy                           0.56        43\n",
            "   macro avg       0.60      0.63      0.59        43\n",
            "weighted avg       0.55      0.56      0.53        43\n",
            "\n"
          ]
        }
      ],
      "source": [
        "import pandas as pd\n",
        "import numpy as np\n",
        "from sklearn.model_selection import train_test_split\n",
        "from sklearn.naive_bayes import GaussianNB\n",
        "from sklearn.metrics import classification_report\n",
        "\n",
        "glass =pd.read_csv (\"glass.csv\")\n",
        "\n",
        "X = glass.iloc[:, :-1]\n",
        "y = glass.iloc[:, -1]\n",
        "\n",
        "\n",
        "X_train, X_test, y_train, y_test = train_test_split(X, y, test_size=0.2, random_state=42)\n",
        "\n",
        "nb_classifier = GaussianNB()\n",
        "nb_classifier.fit(X_train, y_train)\n",
        "\n",
        "y_pred = nb_classifier.predict(X_test)\n",
        "\n",
        "accuracy = nb_classifier.score(X_test, y_test)\n",
        "classification_rep =  classification_report(y_test, y_pred, target_names=[f\"Class {i}\" for i in range(1,7)])\n",
        "print(\"Accuracy:\", accuracy)\n",
        "print(\"\\nClassification Report:\\n\", classification_rep)"
      ]
    }
  ]
}